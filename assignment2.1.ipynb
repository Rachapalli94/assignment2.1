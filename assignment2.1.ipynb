{
 "cells": [
  {
   "cell_type": "code",
   "execution_count": 31,
   "metadata": {},
   "outputs": [
    {
     "name": "stdout",
     "output_type": "stream",
     "text": [
      "6469693230\n"
     ]
    }
   ],
   "source": [
    "def myreduce(fn,sq):\n",
    "    t=sq[0]\n",
    "    for i in sq[1:]:\n",
    "        t=fn(t,i)\n",
    "    return t\n",
    "print(myreduce((lambda x,y:x*y),[2,3,5,7,11,13,17,19,23,29]))"
   ]
  },
  {
   "cell_type": "code",
   "execution_count": 32,
   "metadata": {},
   "outputs": [
    {
     "name": "stdout",
     "output_type": "stream",
     "text": [
      "[-1, -2]\n"
     ]
    }
   ],
   "source": [
    "#creating a filter to print only negative numbers \n",
    "def myfilter(fn,sq):\n",
    "    lst=[]\n",
    "    for i in sq:\n",
    "        if fn(i):\n",
    "            lst.append(i)\n",
    "    return lst\n",
    "print(myfilter((lambda x:x<0),[0,-1,-2,3,4,5,6]))"
   ]
  },
  {
   "cell_type": "code",
   "execution_count": 36,
   "metadata": {},
   "outputs": [
    {
     "name": "stdout",
     "output_type": "stream",
     "text": [
      "[4, 5, 6, 9, 8, 7]\n"
     ]
    }
   ],
   "source": [
    "def myfilter(fn,sq):\n",
    "    l=[]\n",
    "    for i in sq: \n",
    "        if fn (i):\n",
    "            l.append(i)\n",
    "    return l\n",
    "print(myfilter((lambda x:x>1),[0.1,0.2,0.3,-1,-2,-3,4,5,6,9,8,7]))    "
   ]
  },
  {
   "cell_type": "code",
   "execution_count": null,
   "metadata": {},
   "outputs": [],
   "source": []
  }
 ],
 "metadata": {
  "kernelspec": {
   "display_name": "Python 3",
   "language": "python",
   "name": "python3"
  },
  "language_info": {
   "codemirror_mode": {
    "name": "ipython",
    "version": 3
   },
   "file_extension": ".py",
   "mimetype": "text/x-python",
   "name": "python",
   "nbconvert_exporter": "python",
   "pygments_lexer": "ipython3",
   "version": "3.6.4"
  }
 },
 "nbformat": 4,
 "nbformat_minor": 2
}
